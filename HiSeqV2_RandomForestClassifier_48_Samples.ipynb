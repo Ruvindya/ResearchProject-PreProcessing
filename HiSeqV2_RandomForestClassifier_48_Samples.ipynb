{
  "nbformat": 4,
  "nbformat_minor": 0,
  "metadata": {
    "colab": {
      "provenance": [],
      "authorship_tag": "ABX9TyNAbY6+hUu/iYrjNhstsK//",
      "include_colab_link": true
    },
    "kernelspec": {
      "name": "python3",
      "display_name": "Python 3"
    },
    "language_info": {
      "name": "python"
    }
  },
  "cells": [
    {
      "cell_type": "markdown",
      "metadata": {
        "id": "view-in-github",
        "colab_type": "text"
      },
      "source": [
        "<a href=\"https://colab.research.google.com/github/Ruvindya/ResearchProject-PreProcessing/blob/main/HiSeqV2_RandomForestClassifier_48_Samples.ipynb\" target=\"_parent\"><img src=\"https://colab.research.google.com/assets/colab-badge.svg\" alt=\"Open In Colab\"/></a>"
      ]
    },
    {
      "cell_type": "code",
      "execution_count": 107,
      "metadata": {
        "colab": {
          "base_uri": "https://localhost:8080/"
        },
        "id": "j-Nxa_FQIpSv",
        "outputId": "837fa6f9-fd3d-46a2-a7fe-16095a23e1da"
      },
      "outputs": [
        {
          "output_type": "stream",
          "name": "stdout",
          "text": [
            "Drive already mounted at /content/drive; to attempt to forcibly remount, call drive.mount(\"/content/drive\", force_remount=True).\n"
          ]
        }
      ],
      "source": [
        "from google.colab import drive\n",
        "drive.mount('/content/drive')"
      ]
    },
    {
      "cell_type": "code",
      "source": [
        "import os\n",
        "os.chdir('/content/drive/My Drive/RESEACH/TCGA Cervical Cancer (CESC)/gene expression RNAseq IlluminaHiSeq (n=308) TCGA ')"
      ],
      "metadata": {
        "id": "AcjGcZJpIwzi"
      },
      "execution_count": 108,
      "outputs": []
    },
    {
      "cell_type": "code",
      "source": [
        "import numpy as np\n",
        "import pandas as pd\n",
        "import seaborn as sns\n",
        "import matplotlib.pyplot as plt"
      ],
      "metadata": {
        "id": "K73hnY5-I-1q"
      },
      "execution_count": 109,
      "outputs": []
    },
    {
      "cell_type": "markdown",
      "source": [
        "#With 96 Samples"
      ],
      "metadata": {
        "id": "SvXXvYZ7Jbee"
      }
    },
    {
      "cell_type": "code",
      "source": [
        "df_48 = pd.read_csv('HiSeqV2_48_Down_Resampled_Data')"
      ],
      "metadata": {
        "id": "XSI5lzjQJZR7"
      },
      "execution_count": 110,
      "outputs": []
    },
    {
      "cell_type": "code",
      "source": [
        "df_48"
      ],
      "metadata": {
        "colab": {
          "base_uri": "https://localhost:8080/",
          "height": 511
        },
        "id": "YPJWc2M9Jpth",
        "outputId": "37ef486b-cae0-42bc-9ea2-97baf9929a44"
      },
      "execution_count": 111,
      "outputs": [
        {
          "output_type": "execute_result",
          "data": {
            "text/plain": [
              "    C12orf27    ANKS4B    LRRC31      MIA2     CLRN3    TM4SF4     ARMC3  \\\n",
              "0   0.000000  0.000000  0.000000  0.000000  0.061845  0.000000  0.000000   \n",
              "1   0.000000  0.000000  0.000000  0.000000  0.000000  0.094193  0.000000   \n",
              "2   0.076990  0.000000  0.000000  0.202094  0.000000  0.000000  0.000000   \n",
              "3   0.045669  0.040254  0.000000  0.000000  0.115819  0.000000  0.000000   \n",
              "4   0.000000  0.000000  0.047181  0.294975  0.125049  0.085524  0.109618   \n",
              "..       ...       ...       ...       ...       ...       ...       ...   \n",
              "91  0.666303  0.891501  0.971556  0.930859  0.897333  0.701214  0.713189   \n",
              "92  0.561428  0.000000  0.343125  0.000000  0.000000  0.000000  0.528299   \n",
              "93  0.058957  0.000000  0.171713  0.000000  0.177655  0.000000  0.743032   \n",
              "94  0.000000  0.095990  0.000000  0.000000  0.000000  0.000000  0.684096   \n",
              "95  0.000000  0.000000  0.153917  0.000000  0.000000  0.000000  0.000000   \n",
              "\n",
              "      MS4A8B  C10orf108     FOXA2  ...   C2orf73      PIGR      ANO5  \\\n",
              "0   0.000000   0.119059  0.100285  ...  0.000000  0.113825  0.077182   \n",
              "1   0.000000   0.057017  0.000000  ...  0.222780  0.319651  0.267583   \n",
              "2   0.000000   0.077146  0.000000  ...  0.131655  0.185974  0.487046   \n",
              "3   0.000000   0.045761  0.000000  ...  0.078095  0.093480  0.118622   \n",
              "4   0.000000   0.525107  0.606134  ...  0.000000  0.117416  0.326736   \n",
              "..       ...        ...       ...  ...       ...       ...       ...   \n",
              "91  0.978864   0.798906  0.649262  ...  0.000000  0.990065  0.999514   \n",
              "92  0.634549   0.475392  0.667321  ...  0.000000  0.598583  0.767594   \n",
              "93  0.412932   0.396332  0.293152  ...  0.524561  0.574545  0.620419   \n",
              "94  0.287401   0.080766  0.861967  ...  0.388823  0.623301  0.204056   \n",
              "95  0.246033   0.457240  0.593332  ...  0.000000  0.179709  0.113230   \n",
              "\n",
              "       ATOH1      DSG3   LDLRAD1  TINAG     ENPP3  TMEM229A  \\\n",
              "0   0.000000  0.909598  0.080837    0.0  0.000000  0.000000   \n",
              "1   0.000000  0.913635  0.111796    0.0  0.177287  0.000000   \n",
              "2   0.101461  0.899807  0.087799    0.0  0.227543  0.000000   \n",
              "3   0.143572  0.752602  0.000000    0.0  0.089342  0.000000   \n",
              "4   0.000000  0.250599  0.000000    0.0  0.150521  0.590185   \n",
              "..       ...       ...       ...    ...       ...       ...   \n",
              "91  0.217657  0.472573  0.722231    0.0  0.830528  0.508894   \n",
              "92  0.000000  0.137232  0.276407    0.0  0.569407  0.071091   \n",
              "93  0.000000  0.297542  0.286174    0.0  0.421415  0.000000   \n",
              "94  0.000000  0.418179  0.501279    0.0  0.599205  0.000000   \n",
              "95  0.000000  0.314615  0.118592    0.0  0.000000  0.000000   \n",
              "\n",
              "                   histological_type  \n",
              "0   Cervical Squamous Cell Carcinoma  \n",
              "1   Cervical Squamous Cell Carcinoma  \n",
              "2   Cervical Squamous Cell Carcinoma  \n",
              "3   Cervical Squamous Cell Carcinoma  \n",
              "4   Cervical Squamous Cell Carcinoma  \n",
              "..                               ...  \n",
              "91                    Adenocarcinoma  \n",
              "92                    Adenocarcinoma  \n",
              "93                    Adenocarcinoma  \n",
              "94                    Adenocarcinoma  \n",
              "95                    Adenocarcinoma  \n",
              "\n",
              "[96 rows x 201 columns]"
            ],
            "text/html": [
              "\n",
              "  <div id=\"df-11b66d83-df60-4514-9bac-9fb446e58aa0\" class=\"colab-df-container\">\n",
              "    <div>\n",
              "<style scoped>\n",
              "    .dataframe tbody tr th:only-of-type {\n",
              "        vertical-align: middle;\n",
              "    }\n",
              "\n",
              "    .dataframe tbody tr th {\n",
              "        vertical-align: top;\n",
              "    }\n",
              "\n",
              "    .dataframe thead th {\n",
              "        text-align: right;\n",
              "    }\n",
              "</style>\n",
              "<table border=\"1\" class=\"dataframe\">\n",
              "  <thead>\n",
              "    <tr style=\"text-align: right;\">\n",
              "      <th></th>\n",
              "      <th>C12orf27</th>\n",
              "      <th>ANKS4B</th>\n",
              "      <th>LRRC31</th>\n",
              "      <th>MIA2</th>\n",
              "      <th>CLRN3</th>\n",
              "      <th>TM4SF4</th>\n",
              "      <th>ARMC3</th>\n",
              "      <th>MS4A8B</th>\n",
              "      <th>C10orf108</th>\n",
              "      <th>FOXA2</th>\n",
              "      <th>...</th>\n",
              "      <th>C2orf73</th>\n",
              "      <th>PIGR</th>\n",
              "      <th>ANO5</th>\n",
              "      <th>ATOH1</th>\n",
              "      <th>DSG3</th>\n",
              "      <th>LDLRAD1</th>\n",
              "      <th>TINAG</th>\n",
              "      <th>ENPP3</th>\n",
              "      <th>TMEM229A</th>\n",
              "      <th>histological_type</th>\n",
              "    </tr>\n",
              "  </thead>\n",
              "  <tbody>\n",
              "    <tr>\n",
              "      <th>0</th>\n",
              "      <td>0.000000</td>\n",
              "      <td>0.000000</td>\n",
              "      <td>0.000000</td>\n",
              "      <td>0.000000</td>\n",
              "      <td>0.061845</td>\n",
              "      <td>0.000000</td>\n",
              "      <td>0.000000</td>\n",
              "      <td>0.000000</td>\n",
              "      <td>0.119059</td>\n",
              "      <td>0.100285</td>\n",
              "      <td>...</td>\n",
              "      <td>0.000000</td>\n",
              "      <td>0.113825</td>\n",
              "      <td>0.077182</td>\n",
              "      <td>0.000000</td>\n",
              "      <td>0.909598</td>\n",
              "      <td>0.080837</td>\n",
              "      <td>0.0</td>\n",
              "      <td>0.000000</td>\n",
              "      <td>0.000000</td>\n",
              "      <td>Cervical Squamous Cell Carcinoma</td>\n",
              "    </tr>\n",
              "    <tr>\n",
              "      <th>1</th>\n",
              "      <td>0.000000</td>\n",
              "      <td>0.000000</td>\n",
              "      <td>0.000000</td>\n",
              "      <td>0.000000</td>\n",
              "      <td>0.000000</td>\n",
              "      <td>0.094193</td>\n",
              "      <td>0.000000</td>\n",
              "      <td>0.000000</td>\n",
              "      <td>0.057017</td>\n",
              "      <td>0.000000</td>\n",
              "      <td>...</td>\n",
              "      <td>0.222780</td>\n",
              "      <td>0.319651</td>\n",
              "      <td>0.267583</td>\n",
              "      <td>0.000000</td>\n",
              "      <td>0.913635</td>\n",
              "      <td>0.111796</td>\n",
              "      <td>0.0</td>\n",
              "      <td>0.177287</td>\n",
              "      <td>0.000000</td>\n",
              "      <td>Cervical Squamous Cell Carcinoma</td>\n",
              "    </tr>\n",
              "    <tr>\n",
              "      <th>2</th>\n",
              "      <td>0.076990</td>\n",
              "      <td>0.000000</td>\n",
              "      <td>0.000000</td>\n",
              "      <td>0.202094</td>\n",
              "      <td>0.000000</td>\n",
              "      <td>0.000000</td>\n",
              "      <td>0.000000</td>\n",
              "      <td>0.000000</td>\n",
              "      <td>0.077146</td>\n",
              "      <td>0.000000</td>\n",
              "      <td>...</td>\n",
              "      <td>0.131655</td>\n",
              "      <td>0.185974</td>\n",
              "      <td>0.487046</td>\n",
              "      <td>0.101461</td>\n",
              "      <td>0.899807</td>\n",
              "      <td>0.087799</td>\n",
              "      <td>0.0</td>\n",
              "      <td>0.227543</td>\n",
              "      <td>0.000000</td>\n",
              "      <td>Cervical Squamous Cell Carcinoma</td>\n",
              "    </tr>\n",
              "    <tr>\n",
              "      <th>3</th>\n",
              "      <td>0.045669</td>\n",
              "      <td>0.040254</td>\n",
              "      <td>0.000000</td>\n",
              "      <td>0.000000</td>\n",
              "      <td>0.115819</td>\n",
              "      <td>0.000000</td>\n",
              "      <td>0.000000</td>\n",
              "      <td>0.000000</td>\n",
              "      <td>0.045761</td>\n",
              "      <td>0.000000</td>\n",
              "      <td>...</td>\n",
              "      <td>0.078095</td>\n",
              "      <td>0.093480</td>\n",
              "      <td>0.118622</td>\n",
              "      <td>0.143572</td>\n",
              "      <td>0.752602</td>\n",
              "      <td>0.000000</td>\n",
              "      <td>0.0</td>\n",
              "      <td>0.089342</td>\n",
              "      <td>0.000000</td>\n",
              "      <td>Cervical Squamous Cell Carcinoma</td>\n",
              "    </tr>\n",
              "    <tr>\n",
              "      <th>4</th>\n",
              "      <td>0.000000</td>\n",
              "      <td>0.000000</td>\n",
              "      <td>0.047181</td>\n",
              "      <td>0.294975</td>\n",
              "      <td>0.125049</td>\n",
              "      <td>0.085524</td>\n",
              "      <td>0.109618</td>\n",
              "      <td>0.000000</td>\n",
              "      <td>0.525107</td>\n",
              "      <td>0.606134</td>\n",
              "      <td>...</td>\n",
              "      <td>0.000000</td>\n",
              "      <td>0.117416</td>\n",
              "      <td>0.326736</td>\n",
              "      <td>0.000000</td>\n",
              "      <td>0.250599</td>\n",
              "      <td>0.000000</td>\n",
              "      <td>0.0</td>\n",
              "      <td>0.150521</td>\n",
              "      <td>0.590185</td>\n",
              "      <td>Cervical Squamous Cell Carcinoma</td>\n",
              "    </tr>\n",
              "    <tr>\n",
              "      <th>...</th>\n",
              "      <td>...</td>\n",
              "      <td>...</td>\n",
              "      <td>...</td>\n",
              "      <td>...</td>\n",
              "      <td>...</td>\n",
              "      <td>...</td>\n",
              "      <td>...</td>\n",
              "      <td>...</td>\n",
              "      <td>...</td>\n",
              "      <td>...</td>\n",
              "      <td>...</td>\n",
              "      <td>...</td>\n",
              "      <td>...</td>\n",
              "      <td>...</td>\n",
              "      <td>...</td>\n",
              "      <td>...</td>\n",
              "      <td>...</td>\n",
              "      <td>...</td>\n",
              "      <td>...</td>\n",
              "      <td>...</td>\n",
              "      <td>...</td>\n",
              "    </tr>\n",
              "    <tr>\n",
              "      <th>91</th>\n",
              "      <td>0.666303</td>\n",
              "      <td>0.891501</td>\n",
              "      <td>0.971556</td>\n",
              "      <td>0.930859</td>\n",
              "      <td>0.897333</td>\n",
              "      <td>0.701214</td>\n",
              "      <td>0.713189</td>\n",
              "      <td>0.978864</td>\n",
              "      <td>0.798906</td>\n",
              "      <td>0.649262</td>\n",
              "      <td>...</td>\n",
              "      <td>0.000000</td>\n",
              "      <td>0.990065</td>\n",
              "      <td>0.999514</td>\n",
              "      <td>0.217657</td>\n",
              "      <td>0.472573</td>\n",
              "      <td>0.722231</td>\n",
              "      <td>0.0</td>\n",
              "      <td>0.830528</td>\n",
              "      <td>0.508894</td>\n",
              "      <td>Adenocarcinoma</td>\n",
              "    </tr>\n",
              "    <tr>\n",
              "      <th>92</th>\n",
              "      <td>0.561428</td>\n",
              "      <td>0.000000</td>\n",
              "      <td>0.343125</td>\n",
              "      <td>0.000000</td>\n",
              "      <td>0.000000</td>\n",
              "      <td>0.000000</td>\n",
              "      <td>0.528299</td>\n",
              "      <td>0.634549</td>\n",
              "      <td>0.475392</td>\n",
              "      <td>0.667321</td>\n",
              "      <td>...</td>\n",
              "      <td>0.000000</td>\n",
              "      <td>0.598583</td>\n",
              "      <td>0.767594</td>\n",
              "      <td>0.000000</td>\n",
              "      <td>0.137232</td>\n",
              "      <td>0.276407</td>\n",
              "      <td>0.0</td>\n",
              "      <td>0.569407</td>\n",
              "      <td>0.071091</td>\n",
              "      <td>Adenocarcinoma</td>\n",
              "    </tr>\n",
              "    <tr>\n",
              "      <th>93</th>\n",
              "      <td>0.058957</td>\n",
              "      <td>0.000000</td>\n",
              "      <td>0.171713</td>\n",
              "      <td>0.000000</td>\n",
              "      <td>0.177655</td>\n",
              "      <td>0.000000</td>\n",
              "      <td>0.743032</td>\n",
              "      <td>0.412932</td>\n",
              "      <td>0.396332</td>\n",
              "      <td>0.293152</td>\n",
              "      <td>...</td>\n",
              "      <td>0.524561</td>\n",
              "      <td>0.574545</td>\n",
              "      <td>0.620419</td>\n",
              "      <td>0.000000</td>\n",
              "      <td>0.297542</td>\n",
              "      <td>0.286174</td>\n",
              "      <td>0.0</td>\n",
              "      <td>0.421415</td>\n",
              "      <td>0.000000</td>\n",
              "      <td>Adenocarcinoma</td>\n",
              "    </tr>\n",
              "    <tr>\n",
              "      <th>94</th>\n",
              "      <td>0.000000</td>\n",
              "      <td>0.095990</td>\n",
              "      <td>0.000000</td>\n",
              "      <td>0.000000</td>\n",
              "      <td>0.000000</td>\n",
              "      <td>0.000000</td>\n",
              "      <td>0.684096</td>\n",
              "      <td>0.287401</td>\n",
              "      <td>0.080766</td>\n",
              "      <td>0.861967</td>\n",
              "      <td>...</td>\n",
              "      <td>0.388823</td>\n",
              "      <td>0.623301</td>\n",
              "      <td>0.204056</td>\n",
              "      <td>0.000000</td>\n",
              "      <td>0.418179</td>\n",
              "      <td>0.501279</td>\n",
              "      <td>0.0</td>\n",
              "      <td>0.599205</td>\n",
              "      <td>0.000000</td>\n",
              "      <td>Adenocarcinoma</td>\n",
              "    </tr>\n",
              "    <tr>\n",
              "      <th>95</th>\n",
              "      <td>0.000000</td>\n",
              "      <td>0.000000</td>\n",
              "      <td>0.153917</td>\n",
              "      <td>0.000000</td>\n",
              "      <td>0.000000</td>\n",
              "      <td>0.000000</td>\n",
              "      <td>0.000000</td>\n",
              "      <td>0.246033</td>\n",
              "      <td>0.457240</td>\n",
              "      <td>0.593332</td>\n",
              "      <td>...</td>\n",
              "      <td>0.000000</td>\n",
              "      <td>0.179709</td>\n",
              "      <td>0.113230</td>\n",
              "      <td>0.000000</td>\n",
              "      <td>0.314615</td>\n",
              "      <td>0.118592</td>\n",
              "      <td>0.0</td>\n",
              "      <td>0.000000</td>\n",
              "      <td>0.000000</td>\n",
              "      <td>Adenocarcinoma</td>\n",
              "    </tr>\n",
              "  </tbody>\n",
              "</table>\n",
              "<p>96 rows × 201 columns</p>\n",
              "</div>\n",
              "    <div class=\"colab-df-buttons\">\n",
              "\n",
              "  <div class=\"colab-df-container\">\n",
              "    <button class=\"colab-df-convert\" onclick=\"convertToInteractive('df-11b66d83-df60-4514-9bac-9fb446e58aa0')\"\n",
              "            title=\"Convert this dataframe to an interactive table.\"\n",
              "            style=\"display:none;\">\n",
              "\n",
              "  <svg xmlns=\"http://www.w3.org/2000/svg\" height=\"24px\" viewBox=\"0 -960 960 960\">\n",
              "    <path d=\"M120-120v-720h720v720H120Zm60-500h600v-160H180v160Zm220 220h160v-160H400v160Zm0 220h160v-160H400v160ZM180-400h160v-160H180v160Zm440 0h160v-160H620v160ZM180-180h160v-160H180v160Zm440 0h160v-160H620v160Z\"/>\n",
              "  </svg>\n",
              "    </button>\n",
              "\n",
              "  <style>\n",
              "    .colab-df-container {\n",
              "      display:flex;\n",
              "      gap: 12px;\n",
              "    }\n",
              "\n",
              "    .colab-df-convert {\n",
              "      background-color: #E8F0FE;\n",
              "      border: none;\n",
              "      border-radius: 50%;\n",
              "      cursor: pointer;\n",
              "      display: none;\n",
              "      fill: #1967D2;\n",
              "      height: 32px;\n",
              "      padding: 0 0 0 0;\n",
              "      width: 32px;\n",
              "    }\n",
              "\n",
              "    .colab-df-convert:hover {\n",
              "      background-color: #E2EBFA;\n",
              "      box-shadow: 0px 1px 2px rgba(60, 64, 67, 0.3), 0px 1px 3px 1px rgba(60, 64, 67, 0.15);\n",
              "      fill: #174EA6;\n",
              "    }\n",
              "\n",
              "    .colab-df-buttons div {\n",
              "      margin-bottom: 4px;\n",
              "    }\n",
              "\n",
              "    [theme=dark] .colab-df-convert {\n",
              "      background-color: #3B4455;\n",
              "      fill: #D2E3FC;\n",
              "    }\n",
              "\n",
              "    [theme=dark] .colab-df-convert:hover {\n",
              "      background-color: #434B5C;\n",
              "      box-shadow: 0px 1px 3px 1px rgba(0, 0, 0, 0.15);\n",
              "      filter: drop-shadow(0px 1px 2px rgba(0, 0, 0, 0.3));\n",
              "      fill: #FFFFFF;\n",
              "    }\n",
              "  </style>\n",
              "\n",
              "    <script>\n",
              "      const buttonEl =\n",
              "        document.querySelector('#df-11b66d83-df60-4514-9bac-9fb446e58aa0 button.colab-df-convert');\n",
              "      buttonEl.style.display =\n",
              "        google.colab.kernel.accessAllowed ? 'block' : 'none';\n",
              "\n",
              "      async function convertToInteractive(key) {\n",
              "        const element = document.querySelector('#df-11b66d83-df60-4514-9bac-9fb446e58aa0');\n",
              "        const dataTable =\n",
              "          await google.colab.kernel.invokeFunction('convertToInteractive',\n",
              "                                                    [key], {});\n",
              "        if (!dataTable) return;\n",
              "\n",
              "        const docLinkHtml = 'Like what you see? Visit the ' +\n",
              "          '<a target=\"_blank\" href=https://colab.research.google.com/notebooks/data_table.ipynb>data table notebook</a>'\n",
              "          + ' to learn more about interactive tables.';\n",
              "        element.innerHTML = '';\n",
              "        dataTable['output_type'] = 'display_data';\n",
              "        await google.colab.output.renderOutput(dataTable, element);\n",
              "        const docLink = document.createElement('div');\n",
              "        docLink.innerHTML = docLinkHtml;\n",
              "        element.appendChild(docLink);\n",
              "      }\n",
              "    </script>\n",
              "  </div>\n",
              "\n",
              "\n",
              "<div id=\"df-bf980fde-2f73-4e6f-95cc-b91e6201c9ea\">\n",
              "  <button class=\"colab-df-quickchart\" onclick=\"quickchart('df-bf980fde-2f73-4e6f-95cc-b91e6201c9ea')\"\n",
              "            title=\"Suggest charts.\"\n",
              "            style=\"display:none;\">\n",
              "\n",
              "<svg xmlns=\"http://www.w3.org/2000/svg\" height=\"24px\"viewBox=\"0 0 24 24\"\n",
              "     width=\"24px\">\n",
              "    <g>\n",
              "        <path d=\"M19 3H5c-1.1 0-2 .9-2 2v14c0 1.1.9 2 2 2h14c1.1 0 2-.9 2-2V5c0-1.1-.9-2-2-2zM9 17H7v-7h2v7zm4 0h-2V7h2v10zm4 0h-2v-4h2v4z\"/>\n",
              "    </g>\n",
              "</svg>\n",
              "  </button>\n",
              "\n",
              "<style>\n",
              "  .colab-df-quickchart {\n",
              "      --bg-color: #E8F0FE;\n",
              "      --fill-color: #1967D2;\n",
              "      --hover-bg-color: #E2EBFA;\n",
              "      --hover-fill-color: #174EA6;\n",
              "      --disabled-fill-color: #AAA;\n",
              "      --disabled-bg-color: #DDD;\n",
              "  }\n",
              "\n",
              "  [theme=dark] .colab-df-quickchart {\n",
              "      --bg-color: #3B4455;\n",
              "      --fill-color: #D2E3FC;\n",
              "      --hover-bg-color: #434B5C;\n",
              "      --hover-fill-color: #FFFFFF;\n",
              "      --disabled-bg-color: #3B4455;\n",
              "      --disabled-fill-color: #666;\n",
              "  }\n",
              "\n",
              "  .colab-df-quickchart {\n",
              "    background-color: var(--bg-color);\n",
              "    border: none;\n",
              "    border-radius: 50%;\n",
              "    cursor: pointer;\n",
              "    display: none;\n",
              "    fill: var(--fill-color);\n",
              "    height: 32px;\n",
              "    padding: 0;\n",
              "    width: 32px;\n",
              "  }\n",
              "\n",
              "  .colab-df-quickchart:hover {\n",
              "    background-color: var(--hover-bg-color);\n",
              "    box-shadow: 0 1px 2px rgba(60, 64, 67, 0.3), 0 1px 3px 1px rgba(60, 64, 67, 0.15);\n",
              "    fill: var(--button-hover-fill-color);\n",
              "  }\n",
              "\n",
              "  .colab-df-quickchart-complete:disabled,\n",
              "  .colab-df-quickchart-complete:disabled:hover {\n",
              "    background-color: var(--disabled-bg-color);\n",
              "    fill: var(--disabled-fill-color);\n",
              "    box-shadow: none;\n",
              "  }\n",
              "\n",
              "  .colab-df-spinner {\n",
              "    border: 2px solid var(--fill-color);\n",
              "    border-color: transparent;\n",
              "    border-bottom-color: var(--fill-color);\n",
              "    animation:\n",
              "      spin 1s steps(1) infinite;\n",
              "  }\n",
              "\n",
              "  @keyframes spin {\n",
              "    0% {\n",
              "      border-color: transparent;\n",
              "      border-bottom-color: var(--fill-color);\n",
              "      border-left-color: var(--fill-color);\n",
              "    }\n",
              "    20% {\n",
              "      border-color: transparent;\n",
              "      border-left-color: var(--fill-color);\n",
              "      border-top-color: var(--fill-color);\n",
              "    }\n",
              "    30% {\n",
              "      border-color: transparent;\n",
              "      border-left-color: var(--fill-color);\n",
              "      border-top-color: var(--fill-color);\n",
              "      border-right-color: var(--fill-color);\n",
              "    }\n",
              "    40% {\n",
              "      border-color: transparent;\n",
              "      border-right-color: var(--fill-color);\n",
              "      border-top-color: var(--fill-color);\n",
              "    }\n",
              "    60% {\n",
              "      border-color: transparent;\n",
              "      border-right-color: var(--fill-color);\n",
              "    }\n",
              "    80% {\n",
              "      border-color: transparent;\n",
              "      border-right-color: var(--fill-color);\n",
              "      border-bottom-color: var(--fill-color);\n",
              "    }\n",
              "    90% {\n",
              "      border-color: transparent;\n",
              "      border-bottom-color: var(--fill-color);\n",
              "    }\n",
              "  }\n",
              "</style>\n",
              "\n",
              "  <script>\n",
              "    async function quickchart(key) {\n",
              "      const quickchartButtonEl =\n",
              "        document.querySelector('#' + key + ' button');\n",
              "      quickchartButtonEl.disabled = true;  // To prevent multiple clicks.\n",
              "      quickchartButtonEl.classList.add('colab-df-spinner');\n",
              "      try {\n",
              "        const charts = await google.colab.kernel.invokeFunction(\n",
              "            'suggestCharts', [key], {});\n",
              "      } catch (error) {\n",
              "        console.error('Error during call to suggestCharts:', error);\n",
              "      }\n",
              "      quickchartButtonEl.classList.remove('colab-df-spinner');\n",
              "      quickchartButtonEl.classList.add('colab-df-quickchart-complete');\n",
              "    }\n",
              "    (() => {\n",
              "      let quickchartButtonEl =\n",
              "        document.querySelector('#df-bf980fde-2f73-4e6f-95cc-b91e6201c9ea button');\n",
              "      quickchartButtonEl.style.display =\n",
              "        google.colab.kernel.accessAllowed ? 'block' : 'none';\n",
              "    })();\n",
              "  </script>\n",
              "</div>\n",
              "    </div>\n",
              "  </div>\n"
            ]
          },
          "metadata": {},
          "execution_count": 111
        }
      ]
    },
    {
      "cell_type": "code",
      "source": [
        "df_48.columns"
      ],
      "metadata": {
        "colab": {
          "base_uri": "https://localhost:8080/"
        },
        "id": "mL1ZirVRJz2g",
        "outputId": "81cfc111-bdd5-4088-d624-c3fc1a6b3b57"
      },
      "execution_count": 112,
      "outputs": [
        {
          "output_type": "execute_result",
          "data": {
            "text/plain": [
              "Index(['C12orf27', 'ANKS4B', 'LRRC31', 'MIA2', 'CLRN3', 'TM4SF4', 'ARMC3',\n",
              "       'MS4A8B', 'C10orf108', 'FOXA2',\n",
              "       ...\n",
              "       'C2orf73', 'PIGR', 'ANO5', 'ATOH1', 'DSG3', 'LDLRAD1', 'TINAG', 'ENPP3',\n",
              "       'TMEM229A', 'histological_type'],\n",
              "      dtype='object', length=201)"
            ]
          },
          "metadata": {},
          "execution_count": 112
        }
      ]
    },
    {
      "cell_type": "code",
      "source": [
        "from sklearn.preprocessing import LabelEncoder\n",
        "label_encoder = LabelEncoder()\n",
        "df_48['histological_type'] = label_encoder.fit_transform(df_48['histological_type'])"
      ],
      "metadata": {
        "id": "kMNw3Zy8KEJb"
      },
      "execution_count": 113,
      "outputs": []
    },
    {
      "cell_type": "markdown",
      "source": [
        "#Taking 20 Featueres"
      ],
      "metadata": {
        "id": "T6tpXGX7KltY"
      }
    },
    {
      "cell_type": "code",
      "source": [
        "X = df_48.iloc[:, 0:20]  # Select columns from index 0 to 20 (exclusive)\n",
        "y = df_48['histological_type']"
      ],
      "metadata": {
        "id": "IBD-Y5uAKNTc"
      },
      "execution_count": 114,
      "outputs": []
    },
    {
      "cell_type": "code",
      "source": [
        "# Initialize KFold with 10 folds\n",
        "from sklearn.model_selection import KFold\n",
        "from sklearn.metrics import accuracy_score, precision_score, recall_score, f1_score\n",
        "from sklearn.ensemble import RandomForestClassifier\n",
        "\n",
        "kf = KFold(n_splits=10, shuffle=True, random_state=42)\n",
        "\n",
        "# Lists to store evaluation metrics for each fold\n",
        "accuracy_scores = []\n",
        "precision_scores = []\n",
        "recall_scores = []\n",
        "f1_scores = []\n",
        "\n",
        "# Initialize the random forest model\n",
        "classifier = RandomForestClassifier()\n",
        "\n",
        "from sklearn.model_selection import cross_val_score\n",
        "from sklearn.model_selection import train_test_split\n",
        "\n",
        "\n",
        "for train_index, test_index in kf.split(X):\n",
        "    X_train, X_test = X.iloc[train_index], X.iloc[test_index]\n",
        "    y_train, y_test = y.iloc[train_index], y.iloc[test_index]\n",
        "\n",
        "    # Fit the model to the training data\n",
        "    classifier.fit(X_train, y_train)\n",
        "\n",
        "    # Make predictions on the test data\n",
        "    y_pred = classifier.predict(X_test)\n",
        "\n",
        "    # Evaluate the model's performance for this fold\n",
        "    accuracy_scores.append(accuracy_score(y_test, y_pred))\n",
        "    precision_scores.append(precision_score(y_test, y_pred))\n",
        "    recall_scores.append(recall_score(y_test, y_pred))\n",
        "    f1_scores.append(f1_score(y_test, y_pred))\n",
        "\n",
        "\n",
        "# Calculate mean and standard deviation of evaluation metrics\n",
        "mean_accuracy = np.mean(accuracy_scores)\n",
        "mean_precision = np.mean(precision_scores)\n",
        "mean_recall = np.mean(recall_scores)\n",
        "mean_f1 = np.mean(f1_scores)\n",
        "\n",
        "std_accuracy = np.std(accuracy_scores)\n",
        "std_precision = np.std(precision_scores)\n",
        "std_recall = np.std(recall_scores)\n",
        "std_f1 = np.std(f1_scores)\n",
        "\n",
        "# Print the mean and standard deviation of evaluation metrics\n",
        "print(f'Mean Accuracy: {mean_accuracy:.4f} (±{std_accuracy:.4f})')\n",
        "print(f'Mean Precision: {mean_precision:.4f} (±{std_precision:.4f})')\n",
        "print(f'Mean Recall: {mean_recall:.4f} (±{std_recall:.4f})')\n",
        "print(f'Mean F1-score: {mean_f1:.4f} (±{std_f1:.4f})')"
      ],
      "metadata": {
        "colab": {
          "base_uri": "https://localhost:8080/"
        },
        "id": "KmQVMXNgKqzE",
        "outputId": "2f0d726b-a20d-4a0d-9f26-a6bc0afd31af"
      },
      "execution_count": 115,
      "outputs": [
        {
          "output_type": "stream",
          "name": "stdout",
          "text": [
            "Mean Accuracy: 0.9056 (±0.0865)\n",
            "Mean Precision: 0.9042 (±0.1688)\n",
            "Mean Recall: 0.9262 (±0.1169)\n",
            "Mean F1-score: 0.8976 (±0.1070)\n"
          ]
        }
      ]
    },
    {
      "cell_type": "code",
      "source": [
        "# Create a box plot for accuracy scores\n",
        "plt.figure(figsize=(6, 4))\n",
        "plt.boxplot(accuracy_scores)\n",
        "plt.title(\"Accuracy Scores Box Plot\")\n",
        "plt.xlabel(\"Cross-Validation Folds\")\n",
        "plt.ylabel(\"Accuracy\")\n",
        "plt.show()\n"
      ],
      "metadata": {
        "colab": {
          "base_uri": "https://localhost:8080/",
          "height": 410
        },
        "id": "C7YgsegWMay0",
        "outputId": "c20daed8-11d4-4bcb-870a-1ee616e41a56"
      },
      "execution_count": 116,
      "outputs": [
        {
          "output_type": "display_data",
          "data": {
            "text/plain": [
              "<Figure size 600x400 with 1 Axes>"
            ],
            "image/png": "[encoded data removed]"
          },
          "metadata": {}
        }
      ]
    },
    {
      "cell_type": "markdown",
      "source": [
        "#Taking 50 Featueres"
      ],
      "metadata": {
        "id": "rYCwtW32K4Ux"
      }
    },
    {
      "cell_type": "code",
      "source": [
        "X = df_48.iloc[:, 0:50]  # Select columns from index 0 to 20 (exclusive)\n",
        "y = df_48['histological_type']"
      ],
      "metadata": {
        "id": "jbt13uZ4Kx1r"
      },
      "execution_count": 117,
      "outputs": []
    },
    {
      "cell_type": "code",
      "source": [
        "# Initialize KFold with 10 folds\n",
        "from sklearn.model_selection import KFold\n",
        "from sklearn.metrics import accuracy_score, precision_score, recall_score, f1_score\n",
        "from sklearn.ensemble import RandomForestClassifier\n",
        "\n",
        "kf = KFold(n_splits=10, shuffle=True, random_state=42)\n",
        "\n",
        "# Lists to store evaluation metrics for each fold\n",
        "accuracy_scores = []\n",
        "precision_scores = []\n",
        "recall_scores = []\n",
        "f1_scores = []\n",
        "\n",
        "# Initialize the random forest model\n",
        "classifier = RandomForestClassifier()\n",
        "\n",
        "from sklearn.model_selection import cross_val_score\n",
        "from sklearn.model_selection import train_test_split\n",
        "\n",
        "\n",
        "for train_index, test_index in kf.split(X):\n",
        "    X_train, X_test = X.iloc[train_index], X.iloc[test_index]\n",
        "    y_train, y_test = y.iloc[train_index], y.iloc[test_index]\n",
        "\n",
        "    # Fit the model to the training data\n",
        "    classifier.fit(X_train, y_train)\n",
        "\n",
        "    # Make predictions on the test data\n",
        "    y_pred = classifier.predict(X_test)\n",
        "\n",
        "    # Evaluate the model's performance for this fold\n",
        "    accuracy_scores.append(accuracy_score(y_test, y_pred))\n",
        "    precision_scores.append(precision_score(y_test, y_pred))\n",
        "    recall_scores.append(recall_score(y_test, y_pred))\n",
        "    f1_scores.append(f1_score(y_test, y_pred))\n",
        "\n",
        "\n",
        "# Calculate mean and standard deviation of evaluation metrics\n",
        "mean_accuracy = np.mean(accuracy_scores)\n",
        "mean_precision = np.mean(precision_scores)\n",
        "mean_recall = np.mean(recall_scores)\n",
        "mean_f1 = np.mean(f1_scores)\n",
        "\n",
        "std_accuracy = np.std(accuracy_scores)\n",
        "std_precision = np.std(precision_scores)\n",
        "std_recall = np.std(recall_scores)\n",
        "std_f1 = np.std(f1_scores)\n",
        "\n",
        "# Print the mean and standard deviation of evaluation metrics\n",
        "print(f'Mean Accuracy: {mean_accuracy:.4f} (±{std_accuracy:.4f})')\n",
        "print(f'Mean Precision: {mean_precision:.4f} (±{std_precision:.4f})')\n",
        "print(f'Mean Recall: {mean_recall:.4f} (±{std_recall:.4f})')\n",
        "print(f'Mean F1-score: {mean_f1:.4f} (±{std_f1:.4f})')"
      ],
      "metadata": {
        "colab": {
          "base_uri": "https://localhost:8080/"
        },
        "id": "uELhdW9aK9RF",
        "outputId": "be86ef64-3380-49c9-b7ad-3a8675b3dc56"
      },
      "execution_count": 118,
      "outputs": [
        {
          "output_type": "stream",
          "name": "stdout",
          "text": [
            "Mean Accuracy: 0.9067 (±0.0864)\n",
            "Mean Precision: 0.9175 (±0.1541)\n",
            "Mean Recall: 0.9262 (±0.1169)\n",
            "Mean F1-score: 0.9065 (±0.1021)\n"
          ]
        }
      ]
    },
    {
      "cell_type": "code",
      "source": [
        "# Create a box plot for accuracy scores\n",
        "plt.figure(figsize=(6, 4))\n",
        "plt.boxplot(accuracy_scores)\n",
        "plt.title(\"Accuracy Scores Box Plot\")\n",
        "plt.xlabel(\"Cross-Validation Folds\")\n",
        "plt.ylabel(\"Accuracy\")\n",
        "plt.show()\n"
      ],
      "metadata": {
        "colab": {
          "base_uri": "https://localhost:8080/",
          "height": 410
        },
        "id": "Am7HWDgxMciF",
        "outputId": "aebf1340-2c0f-43f4-e388-831a87414c4a"
      },
      "execution_count": 119,
      "outputs": [
        {
          "output_type": "display_data",
          "data": {
            "text/plain": [
              "<Figure size 600x400 with 1 Axes>"
            ],
            "image/png": "[encoded data removed]"
          },
          "metadata": {}
        }
      ]
    },
    {
      "cell_type": "markdown",
      "source": [
        "#Taking 100 Featueres"
      ],
      "metadata": {
        "id": "VuQUekRDLFrl"
      }
    },
    {
      "cell_type": "code",
      "source": [
        "X = df_48.iloc[:, 0:100]  # Select columns from index 0 to 20 (exclusive)\n",
        "y = df_48['histological_type']"
      ],
      "metadata": {
        "id": "eqCwvZsGLALQ"
      },
      "execution_count": 120,
      "outputs": []
    },
    {
      "cell_type": "code",
      "source": [
        "# Initialize KFold with 10 folds\n",
        "from sklearn.model_selection import KFold\n",
        "from sklearn.metrics import accuracy_score, precision_score, recall_score, f1_score\n",
        "from sklearn.ensemble import RandomForestClassifier\n",
        "\n",
        "kf = KFold(n_splits=10, shuffle=True, random_state=42)\n",
        "\n",
        "# Lists to store evaluation metrics for each fold\n",
        "accuracy_scores = []\n",
        "precision_scores = []\n",
        "recall_scores = []\n",
        "f1_scores = []\n",
        "\n",
        "# Initialize the random forest model\n",
        "classifier = RandomForestClassifier()\n",
        "\n",
        "from sklearn.model_selection import cross_val_score\n",
        "from sklearn.model_selection import train_test_split\n",
        "\n",
        "\n",
        "for train_index, test_index in kf.split(X):\n",
        "    X_train, X_test = X.iloc[train_index], X.iloc[test_index]\n",
        "    y_train, y_test = y.iloc[train_index], y.iloc[test_index]\n",
        "\n",
        "    # Fit the model to the training data\n",
        "    classifier.fit(X_train, y_train)\n",
        "\n",
        "    # Make predictions on the test data\n",
        "    y_pred = classifier.predict(X_test)\n",
        "\n",
        "    # Evaluate the model's performance for this fold\n",
        "    accuracy_scores.append(accuracy_score(y_test, y_pred))\n",
        "    precision_scores.append(precision_score(y_test, y_pred))\n",
        "    recall_scores.append(recall_score(y_test, y_pred))\n",
        "    f1_scores.append(f1_score(y_test, y_pred))\n",
        "\n",
        "\n",
        "# Calculate mean and standard deviation of evaluation metrics\n",
        "mean_accuracy = np.mean(accuracy_scores)\n",
        "mean_precision = np.mean(precision_scores)\n",
        "mean_recall = np.mean(recall_scores)\n",
        "mean_f1 = np.mean(f1_scores)\n",
        "\n",
        "std_accuracy = np.std(accuracy_scores)\n",
        "std_precision = np.std(precision_scores)\n",
        "std_recall = np.std(recall_scores)\n",
        "std_f1 = np.std(f1_scores)\n",
        "\n",
        "# Print the mean and standard deviation of evaluation metrics\n",
        "print(f'Mean Accuracy: {mean_accuracy:.4f} (±{std_accuracy:.4f})')\n",
        "print(f'Mean Precision: {mean_precision:.4f} (±{std_precision:.4f})')\n",
        "print(f'Mean Recall: {mean_recall:.4f} (±{std_recall:.4f})')\n",
        "print(f'Mean F1-score: {mean_f1:.4f} (±{std_f1:.4f})')"
      ],
      "metadata": {
        "colab": {
          "base_uri": "https://localhost:8080/"
        },
        "id": "kpCxBV6rLS3K",
        "outputId": "bf6afac0-c3de-490e-9b7a-2ce19cd92072"
      },
      "execution_count": 121,
      "outputs": [
        {
          "output_type": "stream",
          "name": "stdout",
          "text": [
            "Mean Accuracy: 0.9378 (±0.0952)\n",
            "Mean Precision: 0.9500 (±0.1500)\n",
            "Mean Recall: 0.9429 (±0.1143)\n",
            "Mean F1-score: 0.9333 (±0.1106)\n"
          ]
        }
      ]
    },
    {
      "cell_type": "code",
      "source": [
        "# Create a box plot for accuracy scores\n",
        "plt.figure(figsize=(6, 4))\n",
        "plt.boxplot(accuracy_scores)\n",
        "plt.title(\"Accuracy Scores Box Plot\")\n",
        "plt.xlabel(\"Cross-Validation Folds\")\n",
        "plt.ylabel(\"Accuracy\")\n",
        "plt.show()\n"
      ],
      "metadata": {
        "colab": {
          "base_uri": "https://localhost:8080/",
          "height": 410
        },
        "id": "tKVrwmTyMdgc",
        "outputId": "1382056a-82e3-41d9-fa2c-3a49859d5581"
      },
      "execution_count": 122,
      "outputs": [
        {
          "output_type": "display_data",
          "data": {
            "text/plain": [
              "<Figure size 600x400 with 1 Axes>"
            ],
            "image/png": "[encoded data removed]"
          },
          "metadata": {}
        }
      ]
    },
    {
      "cell_type": "markdown",
      "source": [
        "#Taking 200 Featueres"
      ],
      "metadata": {
        "id": "ZVj8yCENLfyo"
      }
    },
    {
      "cell_type": "code",
      "source": [
        "X = df_48.iloc[:, 0:200]  # Select columns from index 0 to 20 (exclusive)\n",
        "y = df_48['histological_type']"
      ],
      "metadata": {
        "id": "YOowt_9GLVTU"
      },
      "execution_count": 123,
      "outputs": []
    },
    {
      "cell_type": "code",
      "source": [
        "# Initialize KFold with 10 folds\n",
        "from sklearn.model_selection import KFold\n",
        "from sklearn.metrics import accuracy_score, precision_score, recall_score, f1_score\n",
        "from sklearn.ensemble import RandomForestClassifier\n",
        "\n",
        "kf = KFold(n_splits=10, shuffle=True, random_state=42)\n",
        "\n",
        "# Lists to store evaluation metrics for each fold\n",
        "accuracy_scores = []\n",
        "precision_scores = []\n",
        "recall_scores = []\n",
        "f1_scores = []\n",
        "\n",
        "# Initialize the random forest model\n",
        "classifier = RandomForestClassifier()\n",
        "\n",
        "from sklearn.model_selection import cross_val_score\n",
        "from sklearn.model_selection import train_test_split\n",
        "\n",
        "\n",
        "for train_index, test_index in kf.split(X):\n",
        "    X_train, X_test = X.iloc[train_index], X.iloc[test_index]\n",
        "    y_train, y_test = y.iloc[train_index], y.iloc[test_index]\n",
        "\n",
        "    # Fit the model to the training data\n",
        "    classifier.fit(X_train, y_train)\n",
        "\n",
        "    # Make predictions on the test data\n",
        "    y_pred = classifier.predict(X_test)\n",
        "\n",
        "    # Evaluate the model's performance for this fold\n",
        "    accuracy_scores.append(accuracy_score(y_test, y_pred))\n",
        "    precision_scores.append(precision_score(y_test, y_pred))\n",
        "    recall_scores.append(recall_score(y_test, y_pred))\n",
        "    f1_scores.append(f1_score(y_test, y_pred))\n",
        "\n",
        "\n",
        "# Calculate mean and standard deviation of evaluation metrics\n",
        "mean_accuracy = np.mean(accuracy_scores)\n",
        "mean_precision = np.mean(precision_scores)\n",
        "mean_recall = np.mean(recall_scores)\n",
        "mean_f1 = np.mean(f1_scores)\n",
        "\n",
        "std_accuracy = np.std(accuracy_scores)\n",
        "std_precision = np.std(precision_scores)\n",
        "std_recall = np.std(recall_scores)\n",
        "std_f1 = np.std(f1_scores)\n",
        "\n",
        "# Print the mean and standard deviation of evaluation metrics\n",
        "print(f'Mean Accuracy: {mean_accuracy:.4f} (±{std_accuracy:.4f})')\n",
        "print(f'Mean Precision: {mean_precision:.4f} (±{std_precision:.4f})')\n",
        "print(f'Mean Recall: {mean_recall:.4f} (±{std_recall:.4f})')\n",
        "print(f'Mean F1-score: {mean_f1:.4f} (±{std_f1:.4f})')"
      ],
      "metadata": {
        "colab": {
          "base_uri": "https://localhost:8080/"
        },
        "id": "UZl03dVSLknI",
        "outputId": "5697c428-e36e-4017-fae8-145adb536ce5"
      },
      "execution_count": 124,
      "outputs": [
        {
          "output_type": "stream",
          "name": "stdout",
          "text": [
            "Mean Accuracy: 0.9589 (±0.0674)\n",
            "Mean Precision: 0.9667 (±0.1000)\n",
            "Mean Recall: 0.9571 (±0.0915)\n",
            "Mean F1-score: 0.9556 (±0.0735)\n"
          ]
        }
      ]
    },
    {
      "cell_type": "code",
      "source": [
        "# Create a box plot for accuracy scores\n",
        "plt.figure(figsize=(6, 4))\n",
        "plt.boxplot(accuracy_scores)\n",
        "plt.title(\"Accuracy Scores Box Plot\")\n",
        "plt.xlabel(\"Cross-Validation Folds\")\n",
        "plt.ylabel(\"Accuracy\")\n",
        "plt.show()\n"
      ],
      "metadata": {
        "colab": {
          "base_uri": "https://localhost:8080/",
          "height": 410
        },
        "id": "2l0Tvt5aMgGf",
        "outputId": "e2b00af8-5cd9-4bd4-9257-9195e1ee5fda"
      },
      "execution_count": 125,
      "outputs": [
        {
          "output_type": "display_data",
          "data": {
            "text/plain": [
              "<Figure size 600x400 with 1 Axes>"
            ],
            "image/png": "[encoded data removed]"
          },
          "metadata": {}
        }
      ]
    },
    {
      "cell_type": "code",
      "source": [],
      "metadata": {
        "id": "IAQ0CrvULm9B"
      },
      "execution_count": 125,
      "outputs": []
    }
  ]
}